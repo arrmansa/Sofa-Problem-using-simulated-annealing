{
 "cells": [
  {
   "cell_type": "code",
   "execution_count": 1,
   "id": "9bdc6152",
   "metadata": {},
   "outputs": [],
   "source": [
    "import numpy as np\n",
    "import math\n",
    "import matplotlib.pyplot as plt\n",
    "from IPython.display import clear_output\n",
    "import time\n",
    "from ipywidgets import interact\n",
    "from numba import jit"
   ]
  },
  {
   "cell_type": "code",
   "execution_count": 2,
   "id": "bb4c116e",
   "metadata": {},
   "outputs": [],
   "source": [
    "plt.rcParams['figure.figsize'] = [5, 5]"
   ]
  },
  {
   "cell_type": "markdown",
   "id": "65d8d0ba",
   "metadata": {},
   "source": [
    "# Check if polygon is valid"
   ]
  },
  {
   "cell_type": "code",
   "execution_count": 3,
   "id": "88ddf2a8",
   "metadata": {},
   "outputs": [],
   "source": [
    "@jit \n",
    "def ccw(p1,p2,p3):\n",
    "    (x1,y1) = p1\n",
    "    (x2,y2) = p2\n",
    "    (x3,y3) = p3\n",
    "    return (y3-y1) * (x2-x1) > (y2-y1) * (x3-x1)\n",
    "@jit\n",
    "def intersect(p1,p2,p3,p4):\n",
    "    (x1,y1) = p1\n",
    "    (x2,y2) = p2\n",
    "    (x3,y3) = p3\n",
    "    (x4,y4) = p4\n",
    "    test1 = ccw((x1,y1),(x3,y3),(x4,y4)) != ccw((x2,y2),(x3,y3),(x4,y4))\n",
    "    test2 = ccw((x1,y1),(x2,y2),(x3,y3)) != ccw((x1,y1),(x2,y2),(x4,y4))\n",
    "    return test1 and test2\n",
    "\n",
    "@jit\n",
    "def valid_polygon(point_array):\n",
    "    l = point_array.shape[0]\n",
    "    for i in range(-1, l - 1):\n",
    "        p1, p2 = point_array[i],point_array[i+1]\n",
    "        for j in range(-1,l - 1):\n",
    "            if j%l == i%l or j%l == (i+1)%l or j%l == (i-1)%l:\n",
    "                continue\n",
    "            p3, p4 = point_array[j],point_array[j+1]\n",
    "            if intersect(p1,p2,p3,p4):\n",
    "                return False\n",
    "    return True"
   ]
  },
  {
   "cell_type": "code",
   "execution_count": 4,
   "id": "3286a088",
   "metadata": {},
   "outputs": [
    {
     "data": {
      "application/vnd.jupyter.widget-view+json": {
       "model_id": "2e67d53892944e5795ae40154c48d97a",
       "version_major": 2,
       "version_minor": 0
      },
      "text/plain": [
       "interactive(children=(FloatSlider(value=-1.0, description='x', max=2.0, min=-3.0), FloatSlider(value=-1.0, des…"
      ]
     },
     "metadata": {},
     "output_type": "display_data"
    },
    {
     "data": {
      "text/plain": [
       "<function __main__.plot_polygon_valid(x, y)>"
      ]
     },
     "execution_count": 4,
     "metadata": {},
     "output_type": "execute_result"
    }
   ],
   "source": [
    "def plot_polygon_valid(x, y):\n",
    "    x_arr, y_arr = [0, 1, x, 0, 0], [0, 0, y, 1, 0]\n",
    "    plt.plot(x_arr, y_arr)\n",
    "    plt.title(f'Valid Polygon {valid_polygon(np.array(list(zip(x_arr, y_arr)))[:-1])}')\n",
    "    plt.ylim([-3, 3])\n",
    "    plt.xlim([-3, 3])\n",
    "    plt.show()\n",
    "\n",
    "# Use interact to create an interactive plot\n",
    "interact(plot_polygon_valid, x=(-3, 2, 0.1), y=(-3, 2, 0.1)) "
   ]
  },
  {
   "cell_type": "markdown",
   "id": "c622426e",
   "metadata": {},
   "source": [
    "# Check if polygon is in bounds"
   ]
  },
  {
   "cell_type": "code",
   "execution_count": 5,
   "id": "a0956ca2",
   "metadata": {},
   "outputs": [],
   "source": [
    "\n",
    "@jit\n",
    "def line_segment_in_bounds(p1, p2):\n",
    "    x1, y1  = p1\n",
    "    x2, y2  = p2\n",
    "    # if points in opposing quadrants and intercept wwith y = x is negative\n",
    "    if max(x1, x2) > 0 and min(x1, x2) < 0 and max(y1, y2) > 0 and min(y1, y2) < 0:\n",
    "        if ((y1 * (x2 - x1) - x1 * (y2 - y1)) < 0) ^ ((x2 - x1 - y2 + y1) < 0):\n",
    "            return False\n",
    "    return True\n",
    "\n",
    "@jit\n",
    "def in_bounds(point_array):\n",
    "    if np.any(point_array>1):\n",
    "        return False\n",
    "    if np.any(np.bitwise_and(point_array[:,0]<0,point_array[:,1]<0)):\n",
    "        return False\n",
    "    for i in range(-1,point_array.shape[0] - 1):\n",
    "        if not line_segment_in_bounds(point_array[i],point_array[i+1]):\n",
    "            return False\n",
    "    return True\n",
    "\n",
    "@jit\n",
    "def finished(point_array):\n",
    "    if np.all(point_array[:,0]>=0):\n",
    "        return True\n",
    "    else:\n",
    "        return False"
   ]
  },
  {
   "cell_type": "code",
   "execution_count": 6,
   "id": "6f45de75",
   "metadata": {},
   "outputs": [
    {
     "data": {
      "application/vnd.jupyter.widget-view+json": {
       "model_id": "6697fd68b8334390a7d218b70c062a3c",
       "version_major": 2,
       "version_minor": 0
      },
      "text/plain": [
       "interactive(children=(FloatSlider(value=-1.0, description='x', max=2.0, min=-3.0), FloatSlider(value=-1.0, des…"
      ]
     },
     "metadata": {},
     "output_type": "display_data"
    },
    {
     "data": {
      "text/plain": [
       "<function __main__.plot_polygon_valid(x, y)>"
      ]
     },
     "execution_count": 6,
     "metadata": {},
     "output_type": "execute_result"
    }
   ],
   "source": [
    "def plot_polygon_inbounds(x, y):\n",
    "    point_arr = np.array([[1, 1], [1, 0], [0, 1], [1, 1]]) * 0.8\n",
    "    point_arr[:, 0] += x\n",
    "    point_arr[:, 1] += y\n",
    "    plt.plot(point_arr[:,0], point_arr[:,1])\n",
    "    plt.plot((-3,0,0),(0,0,-3))\n",
    "    plt.plot((-3,1,1),(1,1,-3))\n",
    "    plt.title(f'In bounds Polygon {in_bounds(point_arr[:-1])}, Finished {finished(point_arr[:-1])}')\n",
    "    plt.ylim([-3, 3])\n",
    "    plt.xlim([-3, 3])\n",
    "    plt.show()\n",
    "\n",
    "# Use interact to create an interactive plot\n",
    "interact(plot_polygon_valid, x=(-3, 2, 0.1), y=(-3, 2, 0.1)) "
   ]
  },
  {
   "cell_type": "markdown",
   "id": "93c33802",
   "metadata": {},
   "source": [
    "# Define movement function"
   ]
  },
  {
   "cell_type": "markdown",
   "id": "fba53c34",
   "metadata": {},
   "source": [
    "## Rotation"
   ]
  },
  {
   "cell_type": "code",
   "execution_count": 7,
   "id": "f87dff8e",
   "metadata": {},
   "outputs": [],
   "source": [
    "@jit\n",
    "def get_max_angle(point_array):\n",
    "    \"\"\"check maximum rotation about (0,0)\"\"\"\n",
    "    max_angle = 2*math.pi\n",
    "    for point in point_array:\n",
    "        radius = np.sum(np.square(point))**0.5\n",
    "        current_angle = math.atan2(point[1],point[0])\n",
    "        if current_angle < -2:\n",
    "            current_angle += 2 * math.pi\n",
    "        if radius>1:\n",
    "            circle_angle = math.acos(1/radius)\n",
    "            if current_angle >= math.pi/2: \n",
    "                min_angle = current_angle - math.pi/2 - circle_angle\n",
    "            elif current_angle >= 0:\n",
    "                min_angle = current_angle - circle_angle\n",
    "            else:\n",
    "                min_angle = current_angle + math.pi / 2\n",
    "        else:\n",
    "            min_angle = current_angle + math.pi / 2\n",
    "        max_angle = min(min_angle,max_angle)\n",
    "    return -max_angle\n",
    "\n",
    "@jit\n",
    "def rotate_points(point_array, angle):\n",
    "    rot = np.array([[math.cos(angle), -math.sin(angle)], [math.sin(angle), math.cos(angle)]])\n",
    "    return np.dot(point_array,rot.T)"
   ]
  },
  {
   "cell_type": "code",
   "execution_count": 8,
   "id": "f2326221",
   "metadata": {},
   "outputs": [
    {
     "data": {
      "application/vnd.jupyter.widget-view+json": {
       "model_id": "185314760c564ef2a98de3b9d40d080a",
       "version_major": 2,
       "version_minor": 0
      },
      "text/plain": [
       "interactive(children=(FloatSlider(value=0.0, description='fraction', max=1.0), Output()), _dom_classes=('widge…"
      ]
     },
     "metadata": {},
     "output_type": "display_data"
    },
    {
     "data": {
      "text/plain": [
       "<function __main__.plot_polygon_rotation(fraction)>"
      ]
     },
     "execution_count": 8,
     "metadata": {},
     "output_type": "execute_result"
    }
   ],
   "source": [
    "def plot_polygon_rotation(fraction):\n",
    "    point_arr = np.array([[1, 1], [1, 0], [0, 1], [1, 1]]) * 0.8\n",
    "    point_arr -= np.array((1, 0))\n",
    "    plt.plot(point_arr[:,0], point_arr[:,1])\n",
    "    plt.plot(*zip(*rotate_points(point_arr, fraction * get_max_angle(point_arr))))\n",
    "    plt.plot((-3,0,0),(0,0,-3))\n",
    "    plt.plot((-3,1,1),(1,1,-3))\n",
    "    plt.title(f'Polygon Angle {get_max_angle(point_arr)}')\n",
    "    plt.ylim([-3, 3])\n",
    "    plt.xlim([-3, 3])\n",
    "    plt.show()\n",
    "\n",
    "# Use interact to create an interactive plot\n",
    "interact(plot_polygon_rotation, fraction=(0, 1, 0.1)) "
   ]
  },
  {
   "cell_type": "code",
   "execution_count": 9,
   "id": "bad70f04",
   "metadata": {},
   "outputs": [],
   "source": [
    "@jit\n",
    "def get_max_height_drop(point_array):\n",
    "     # points under x < 0 cannot go below y = 0\n",
    "    drop_y = np.min(point_array[:,1][point_array[:,0]<0])\n",
    "    # points above x > 0 can go as low as needed but their edges cannot go below (0, 0)\n",
    "    for i in range(-1,point_array.shape[0]-1):\n",
    "        p1, p2 = point_array[i],point_array[i+1]\n",
    "        x1, y1  = p1\n",
    "        x2, y2  = p2\n",
    "        if max(x1, x2) > 0 and min(x1, x2) < 0:\n",
    "            this_drop_limit = (x2 * y1 - x1 * y2) / (x2 - x1)\n",
    "            drop_y = min(drop_y, this_drop_limit)\n",
    "    return drop_y\n",
    "\n",
    "        \n",
    "def pass_through(point_array, max_steps, angle_multiplier = 0.9, translation_multiplier = 0.9, plot_graph_delay = 0):\n",
    "    for steps in range(max_steps):\n",
    "        stuck = True\n",
    "\n",
    "        #Move down as much as possible\n",
    "        disty = get_max_height_drop(point_array)\n",
    "        if disty != 0:\n",
    "            stuck = False\n",
    "        point_array -= np.array((0, disty * 0.99))\n",
    "\n",
    "        #Rotate about 0,0 mostly\n",
    "        angle = get_max_angle(point_array)\n",
    "        if angle != 0:\n",
    "            stuck = False\n",
    "        point_array = rotate_points(point_array, angle*angle_multiplier)\n",
    "\n",
    "        #Move ahead mostly\n",
    "        distx = np.min(1 - point_array[:,0])\n",
    "        if distx > 0:\n",
    "            stuck = False\n",
    "        point_array += np.array((distx*translation_multiplier, 0))\n",
    "            \n",
    "        #End condition\n",
    "        if finished(point_array):\n",
    "            stuck = False\n",
    "            break\n",
    "        \n",
    "        if stuck:\n",
    "            break\n",
    "        \n",
    "        #Plot\n",
    "        if plot_graph_delay > 0:\n",
    "            time.sleep(plot_graph_delay)\n",
    "            plt.title(f\"Iteration {steps}, {in_bounds(point_array)}\")\n",
    "            plt.plot(np.append(point_array[:,0], point_array[0,0]), \n",
    "                     np.append(point_array[:,1], point_array[0,1]))\n",
    "            plt.plot((-3,1,1),(1,1,-3))\n",
    "            plt.plot((-3,0,0),(0,0,-3))\n",
    "            plt.show()\n",
    "            clear_output(wait=True)\n",
    "            \n",
    "        #End condition\n",
    "        if finished(point_array):\n",
    "            stuck = False\n",
    "            break\n",
    "        if stuck:\n",
    "            break\n",
    "\n",
    "    if not stuck and steps < max_steps-1:\n",
    "        return True\n",
    "    else:\n",
    "        return False"
   ]
  },
  {
   "cell_type": "markdown",
   "id": "45d24837",
   "metadata": {},
   "source": [
    "# New scipy optimization"
   ]
  },
  {
   "cell_type": "code",
   "execution_count": 10,
   "id": "65015ae2",
   "metadata": {},
   "outputs": [],
   "source": [
    "from threading import Lock\n",
    "\n",
    "ITERATIONS = 100\n",
    "\n",
    "@jit\n",
    "def area(point_array):\n",
    "    x, y = point_array[:,0], point_array[:,1]\n",
    "    return np.abs(1/2 * np.sum(x*np.roll(y, 1) - y*np.roll(x, 1)))\n",
    "\n",
    "def valid(point_array):\n",
    "    point_array = np.array(point_array)\n",
    "    return (not finished(point_array)) and valid_polygon(point_array) and in_bounds(point_array) and pass_through(point_array, ITERATIONS)\n",
    "\n",
    "def get_bounds(points):\n",
    "    return sum(map(list, zip([(-3, 1)] * len(points), [(0,1)] * len(points))), start=[])\n",
    "\n",
    "def get_average_sidelength(points):\n",
    "    distances = np.sqrt(np.sum(np.square(points - np.roll(points, -1, axis=0)), axis=1))\n",
    "    return np.mean(distances)\n",
    "\n",
    "display_time = time.time()\n",
    "display_lock = Lock()\n",
    "\n",
    "def metric(flattened):\n",
    "    global display_time\n",
    "    point_array = np.array(flattened).reshape((-1, 2))\n",
    "    if valid(point_array):\n",
    "        with display_lock:\n",
    "            if (time.time() - display_time) > 30:\n",
    "                pass_through(point_array, ITERATIONS, plot_graph_delay=0.05)\n",
    "                display_time = time.time()\n",
    "        return -area(point_array)\n",
    "    else:\n",
    "        return 0"
   ]
  },
  {
   "cell_type": "markdown",
   "id": "9a4078d9",
   "metadata": {},
   "source": [
    "# Polygon manipulation"
   ]
  },
  {
   "cell_type": "code",
   "execution_count": 11,
   "id": "ebe1ea32",
   "metadata": {},
   "outputs": [],
   "source": [
    "def reduce_useless_points(og_point_array):\n",
    "    while True:\n",
    "        initial_shape = og_point_array.shape\n",
    "        for i in reversed(range(og_point_array.shape[0])):\n",
    "            og_point_array2 = np.vstack([og_point_array[:i], og_point_array[i+1:]])\n",
    "            if area(og_point_array2) >= area(og_point_array):\n",
    "                if metric(og_point_array2) <= metric(og_point_array):\n",
    "                    og_point_array = og_point_array2\n",
    "        if og_point_array.shape == initial_shape:\n",
    "            break\n",
    "    return og_point_array\n",
    "\n",
    "def add_more_points_to_optimize(og_point_array, target_n):\n",
    "    distances = np.sqrt(np.sum(np.square(og_point_array - np.roll(og_point_array, -1, axis=0)), axis=1))\n",
    "    perimiter = np.sum(distances, axis=0)\n",
    "    target_dist = perimiter / target_n\n",
    "    add_points = (distances // target_dist).astype(np.int32)\n",
    "    point_list = list(og_point_array)\n",
    "    point_list.append(point_list[0])\n",
    "    final_points = []\n",
    "    for points_to_add in add_points:\n",
    "        final_points.append(point_list.pop(0))\n",
    "        if points_to_add > 0:\n",
    "            x1, y1 = final_points[-1]\n",
    "            x2, y2 = point_list[0]\n",
    "            interpolated = np.dstack([np.linspace(x1, x2, 2+points_to_add), np.linspace(y1, y2, 2+points_to_add)])[0][1:-1]\n",
    "            final_points.append(interpolated)\n",
    "    return np.vstack(final_points)"
   ]
  },
  {
   "cell_type": "markdown",
   "id": "171b6959",
   "metadata": {},
   "source": [
    "# Starting point"
   ]
  },
  {
   "cell_type": "code",
   "execution_count": 12,
   "id": "a97d501f",
   "metadata": {},
   "outputs": [
    {
     "data": {
      "image/png": "[encoded data removed]",
      "text/plain": [
       "<Figure size 500x500 with 1 Axes>"
      ]
     },
     "metadata": {},
     "output_type": "display_data"
    }
   ],
   "source": [
    "# starting points will be a regular n-gon\n",
    "n = 10\n",
    "\n",
    "angles = np.linspace(0, 3.1416*2, n)[:-1]\n",
    "points = np.vstack([np.sin(angles), np.cos(angles)]).T\n",
    "points *= 0.45\n",
    "points[:, 0] -= 0.5\n",
    "points[:, 1] += 0.5\n",
    "plt.plot(*zip(*points))\n",
    "plt.show()"
   ]
  },
  {
   "cell_type": "code",
   "execution_count": 13,
   "id": "282b11a1",
   "metadata": {},
   "outputs": [
    {
     "data": {
      "text/plain": [
       "-0.5857402093206147"
      ]
     },
     "execution_count": 13,
     "metadata": {},
     "output_type": "execute_result"
    }
   ],
   "source": [
    "metric(points)"
   ]
  },
  {
   "cell_type": "markdown",
   "id": "8bb13146",
   "metadata": {},
   "source": [
    "# Scipy optimize"
   ]
  },
  {
   "cell_type": "code",
   "execution_count": 14,
   "id": "a57a01f8",
   "metadata": {},
   "outputs": [],
   "source": [
    "from scipy import optimize"
   ]
  },
  {
   "cell_type": "code",
   "execution_count": 15,
   "id": "638f0365",
   "metadata": {},
   "outputs": [
    {
     "name": "stdout",
     "output_type": "stream",
     "text": [
      " message: Optimization terminated successfully.\n",
      " success: True\n",
      "     fun: -1.7793433373916154\n",
      "       x: [-6.507e-01  9.958e-01 ... -7.563e-01  9.356e-01]\n",
      "     nit: 30\n",
      "    nfev: 44733 64\n"
     ]
    }
   ],
   "source": [
    "while len(points) < 50:\n",
    "    x = optimize.differential_evolution(metric, bounds=get_bounds(points), x0 = points.flatten(), \n",
    "    mutation = (0, get_average_sidelength(points)/2), seed=1)\n",
    "    points = np.array(x.x).reshape(-1, 2)\n",
    "    points = reduce_useless_points(points)\n",
    "    points = add_more_points_to_optimize(points, len(points)+5)\n",
    "    print(x, len(points))"
   ]
  },
  {
   "cell_type": "markdown",
   "id": "e181109a",
   "metadata": {},
   "source": [
    "# The end"
   ]
  },
  {
   "cell_type": "code",
   "execution_count": 16,
   "id": "72894781",
   "metadata": {},
   "outputs": [],
   "source": [
    "points = reduce_useless_points(points)"
   ]
  },
  {
   "cell_type": "code",
   "execution_count": 17,
   "id": "62e79b99",
   "metadata": {},
   "outputs": [
    {
     "data": {
      "image/png": "[encoded data removed]",
      "text/plain": [
       "<Figure size 500x500 with 1 Axes>"
      ]
     },
     "metadata": {},
     "output_type": "display_data"
    },
    {
     "name": "stdout",
     "output_type": "stream",
     "text": [
      " message: Optimization terminated successfully.\n",
      " success: True\n",
      "     fun: -1.7793433373916154\n",
      "       x: [-6.507e-01  9.958e-01 ... -7.563e-01  9.356e-01]\n",
      "     nit: 30\n",
      "    nfev: 44733\n",
      "1.7815024965510924\n"
     ]
    }
   ],
   "source": [
    "plt.plot(*zip(*np.array(points).reshape(-1, 2)))\n",
    "plt.scatter(*zip(*np.array(points).reshape(-1, 2)))\n",
    "plt.show()\n",
    "print(x)\n",
    "print(area(points))"
   ]
  },
  {
   "cell_type": "code",
   "execution_count": 18,
   "id": "146c8246",
   "metadata": {},
   "outputs": [
    {
     "data": {
      "image/png": "[encoded data removed]",
      "text/plain": [
       "<Figure size 500x500 with 1 Axes>"
      ]
     },
     "metadata": {},
     "output_type": "display_data"
    }
   ],
   "source": [
    "result = pass_through(points, ITERATIONS, plot_graph_delay=0.2)"
   ]
  },
  {
   "cell_type": "code",
   "execution_count": 19,
   "id": "bab449aa",
   "metadata": {},
   "outputs": [
    {
     "data": {
      "text/plain": [
       "True"
      ]
     },
     "execution_count": 19,
     "metadata": {},
     "output_type": "execute_result"
    }
   ],
   "source": [
    "result"
   ]
  }
 ],
 "metadata": {
  "kernelspec": {
   "display_name": "Python 3 (ipykernel)",
   "language": "python",
   "name": "python3"
  },
  "language_info": {
   "codemirror_mode": {
    "name": "ipython",
    "version": 3
   },
   "file_extension": ".py",
   "mimetype": "text/x-python",
   "name": "python",
   "nbconvert_exporter": "python",
   "pygments_lexer": "ipython3",
   "version": "3.11.9"
  }
 },
 "nbformat": 4,
 "nbformat_minor": 5
}
